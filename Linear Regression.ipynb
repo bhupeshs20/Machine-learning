{
 "cells": [
  {
   "cell_type": "code",
   "execution_count": 36,
   "metadata": {},
   "outputs": [],
   "source": [
    "import numpy as np\n",
    "import pandas as pd\n",
    "import matplotlib.pyplot as plt\n",
    "import seaborn as sns"
   ]
  },
  {
   "cell_type": "code",
   "execution_count": 37,
   "metadata": {},
   "outputs": [],
   "source": [
    "Data_X={\"hours_std\": [10, 8, 5, 2],\n",
    "        \"hours_play\": [3, 20, 1, 6],\n",
    "        \"hours_miss\": [0, 2, 5, 8],\n",
    "        \"prac_coding\":[5, 7, 2, 1]}\n",
    "Data_Y={\"grades\":[87, 75, 63, 41]}\n",
    "\n",
    "Data_X2={\"hours_std\": [6, 12],\n",
    "        \"hours_play\": [6, 5],\n",
    "        \"hours_miss\": [4, 0],\n",
    "        \"prac_coding\":[3, 6]}"
   ]
  },
  {
   "cell_type": "code",
   "execution_count": 38,
   "metadata": {},
   "outputs": [
    {
     "name": "stdout",
     "output_type": "stream",
     "text": [
      "{'hours_std': [10, 8, 5, 2], 'hours_play': [3, 20, 1, 6], 'hours_miss': [0, 2, 5, 8], 'prac_coding': [5, 7, 2, 1]} {'grades': [87, 75, 63, 41]}\n"
     ]
    }
   ],
   "source": [
    "print(Data_X,Data_Y)"
   ]
  },
  {
   "cell_type": "code",
   "execution_count": 68,
   "metadata": {},
   "outputs": [],
   "source": [
    "x1=Data_X[\"hours_std\"]\n",
    "x2=Data_X[\"hours_play\"]\n",
    "x3=Data_X[\"hours_miss\"]\n",
    "x4=Data_X[\"prac_coding\"]\n",
    "X=np.transpose([x1,x2,x3,x4])\n",
    "Y=Data_Y[\"grades\"]\n",
    "x11=Data_X2[\"hours_std\"]\n",
    "x22=Data_X2[\"hours_play\"]\n",
    "x33=Data_X2[\"hours_miss\"]\n",
    "x44=Data_X2[\"prac_coding\"]\n",
    "X_test=np.transpose([x11,x22,x33,x44])"
   ]
  },
  {
   "cell_type": "code",
   "execution_count": 69,
   "metadata": {},
   "outputs": [
    {
     "name": "stdout",
     "output_type": "stream",
     "text": [
      "[[10  3  0  5]\n",
      " [ 8 20  2  7]\n",
      " [ 5  1  5  2]\n",
      " [ 2  6  8  1]] [[ 6  6  4  3]\n",
      " [12  5  0  6]]\n"
     ]
    }
   ],
   "source": [
    "print(X,X_test)"
   ]
  },
  {
   "cell_type": "code",
   "execution_count": 70,
   "metadata": {},
   "outputs": [],
   "source": [
    "from sklearn.linear_model import LinearRegression"
   ]
  },
  {
   "cell_type": "code",
   "execution_count": 71,
   "metadata": {},
   "outputs": [],
   "source": [
    "model = LinearRegression(fit_intercept=True)"
   ]
  },
  {
   "cell_type": "code",
   "execution_count": 72,
   "metadata": {},
   "outputs": [
    {
     "data": {
      "text/plain": [
       "LinearRegression()"
      ]
     },
     "execution_count": 72,
     "metadata": {},
     "output_type": "execute_result"
    }
   ],
   "source": [
    "model.fit(X,Y)"
   ]
  },
  {
   "cell_type": "code",
   "execution_count": 73,
   "metadata": {},
   "outputs": [],
   "source": [
    "test_predictions = model.predict(X_test)"
   ]
  },
  {
   "cell_type": "code",
   "execution_count": 74,
   "metadata": {},
   "outputs": [
    {
     "name": "stdout",
     "output_type": "stream",
     "text": [
      "[58. 94.]\n"
     ]
    }
   ],
   "source": [
    "print(test_predictions)"
   ]
  },
  {
   "cell_type": "code",
   "execution_count": null,
   "metadata": {},
   "outputs": [],
   "source": []
  }
 ],
 "metadata": {
  "kernelspec": {
   "display_name": "Python 3",
   "language": "python",
   "name": "python3"
  },
  "language_info": {
   "codemirror_mode": {
    "name": "ipython",
    "version": 3
   },
   "file_extension": ".py",
   "mimetype": "text/x-python",
   "name": "python",
   "nbconvert_exporter": "python",
   "pygments_lexer": "ipython3",
   "version": "3.8.5"
  }
 },
 "nbformat": 4,
 "nbformat_minor": 4
}
