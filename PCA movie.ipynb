{
 "cells": [
  {
   "cell_type": "code",
   "execution_count": 4,
   "metadata": {},
   "outputs": [
    {
     "name": "stdout",
     "output_type": "stream",
     "text": [
      "(3952, 6040)\n"
     ]
    }
   ],
   "source": [
    "import numpy as np\n",
    "import pandas as pd\n",
    "\n",
    "data = pd.io.parsers.read_csv('ratings.dat',names=['user_id','movie_id','rating','time'],engine='python', delimiter='::')\n",
    "\n",
    "#print(data.movie_id.values)\n",
    "movie_data = pd.io.parsers.read_csv('movies.dat',names=['movie_id','title','genre'],engine='python', delimiter='::')\n",
    "\n",
    "ratings_mat = np.ndarray(shape=(np.max(data.movie_id.values), np.max(data.user_id.values)),dtype=np.uint8)\n",
    "\n",
    "print(ratings_mat.shape)\n",
    "\n"
   ]
  },
  {
   "cell_type": "code",
   "execution_count": 5,
   "metadata": {},
   "outputs": [
    {
     "name": "stdout",
     "output_type": "stream",
     "text": [
      "(3952, 6040)\n"
     ]
    }
   ],
   "source": [
    "ratings_mat[data.movie_id.values-1, data.user_id.values-1] = data.rating.values\n",
    "\n",
    "#print(ratings_mat.shape)\n",
    "\n",
    "normalised_mat = ratings_mat - np.asarray([(np.mean(ratings_mat,1))]).T\n",
    "\n",
    "A = normalised_mat/np.sqrt(ratings_mat.shape[0]-1)\n",
    "print(A.shape)\n",
    "\n",
    "U,S,V = np.linalg.svd(A)\n",
    "\n"
   ]
  },
  {
   "cell_type": "code",
   "execution_count": 8,
   "metadata": {},
   "outputs": [
    {
     "name": "stdout",
     "output_type": "stream",
     "text": [
      "(3952, 10)\n"
     ]
    },
    {
     "name": "stderr",
     "output_type": "stream",
     "text": [
      "<ipython-input-8-2c0a8aa3acb4>:5: RuntimeWarning: invalid value encountered in true_divide\n",
      "  similarity = np.dot(movie_row, data.T)/(magnitude[index]*magnitude)\n"
     ]
    },
    {
     "name": "stdout",
     "output_type": "stream",
     "text": [
      "Recommendations for Money Train (1995): \n",
      "\n",
      "Money Train (1995)\n",
      "Hard Rain (1998)\n",
      "Specialist, The (1994)\n",
      "Striking Distance (1993)\n",
      "Blown Away (1994)\n",
      "Fair Game (1995)\n",
      "Terminal Velocity (1994)\n",
      "Fled (1996)\n",
      "Daylight (1996)\n",
      "Sudden Death (1995)\n"
     ]
    }
   ],
   "source": [
    "def top_cosine_similarity(data, movie_id, top_n):\n",
    "    index = movie_id - 1\n",
    "    movie_row = data[index, :]\n",
    "    magnitude = np.sqrt(np.einsum('ij, ij -> i', data, data))\n",
    "    similarity = np.dot(movie_row, data.T)/(magnitude[index]*magnitude)\n",
    "    sort_indexes = np.argsort(-similarity)\n",
    "    return sort_indexes[:top_n]\n",
    "\n",
    "def print_similar_movies(movie_data, movie_id, top_indexes):\n",
    "    print('Recommendations for {0}: \\n'.format(\n",
    "    movie_data[movie_data.movie_id == movie_id].title.values[0]))\n",
    "    for id in top_indexes + 1:\n",
    "        print(movie_data[movie_data.movie_id == id].title.values[0])\n",
    "        \n",
    "k= 10\n",
    "movie_id = 20\n",
    "top_n = 10\n",
    "sliced = U[:,:k]\n",
    "#sliced = V.T[:,:k] # representative data\n",
    "print(sliced.shape)\n",
    "indexes = top_cosine_similarity(sliced, movie_id, top_n)\n",
    "\n",
    "print_similar_movies(movie_data, movie_id, indexes)"
   ]
  },
  {
   "cell_type": "code",
   "execution_count": null,
   "metadata": {},
   "outputs": [],
   "source": []
  }
 ],
 "metadata": {
  "kernelspec": {
   "display_name": "Python 3",
   "language": "python",
   "name": "python3"
  },
  "language_info": {
   "codemirror_mode": {
    "name": "ipython",
    "version": 3
   },
   "file_extension": ".py",
   "mimetype": "text/x-python",
   "name": "python",
   "nbconvert_exporter": "python",
   "pygments_lexer": "ipython3",
   "version": "3.8.5"
  }
 },
 "nbformat": 4,
 "nbformat_minor": 4
}
