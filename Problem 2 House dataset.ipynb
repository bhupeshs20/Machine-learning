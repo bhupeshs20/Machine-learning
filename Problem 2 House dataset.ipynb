{
 "cells": [
  {
   "cell_type": "markdown",
   "metadata": {},
   "source": [
    "# Problem 2 House dataset"
   ]
  },
  {
   "cell_type": "code",
   "execution_count": 28,
   "metadata": {},
   "outputs": [
    {
     "data": {
      "text/html": [
       "<div>\n",
       "<style scoped>\n",
       "    .dataframe tbody tr th:only-of-type {\n",
       "        vertical-align: middle;\n",
       "    }\n",
       "\n",
       "    .dataframe tbody tr th {\n",
       "        vertical-align: top;\n",
       "    }\n",
       "\n",
       "    .dataframe thead th {\n",
       "        text-align: right;\n",
       "    }\n",
       "</style>\n",
       "<table border=\"1\" class=\"dataframe\">\n",
       "  <thead>\n",
       "    <tr style=\"text-align: right;\">\n",
       "      <th></th>\n",
       "      <th>Intercept</th>\n",
       "      <th>A</th>\n",
       "      <th>B</th>\n",
       "      <th>C</th>\n",
       "      <th>D</th>\n",
       "      <th>E</th>\n",
       "      <th>F</th>\n",
       "      <th>G</th>\n",
       "      <th>H</th>\n",
       "      <th>I</th>\n",
       "      <th>J</th>\n",
       "      <th>K</th>\n",
       "      <th>L</th>\n",
       "      <th>M</th>\n",
       "    </tr>\n",
       "  </thead>\n",
       "  <tbody>\n",
       "    <tr>\n",
       "      <th>0</th>\n",
       "      <td>1</td>\n",
       "      <td>0.00632</td>\n",
       "      <td>18.0</td>\n",
       "      <td>2.31</td>\n",
       "      <td>0</td>\n",
       "      <td>0.538</td>\n",
       "      <td>6.575</td>\n",
       "      <td>65.2</td>\n",
       "      <td>4.0900</td>\n",
       "      <td>1</td>\n",
       "      <td>296</td>\n",
       "      <td>15.3</td>\n",
       "      <td>396.90</td>\n",
       "      <td>4.98</td>\n",
       "    </tr>\n",
       "    <tr>\n",
       "      <th>1</th>\n",
       "      <td>1</td>\n",
       "      <td>0.02731</td>\n",
       "      <td>0.0</td>\n",
       "      <td>7.07</td>\n",
       "      <td>0</td>\n",
       "      <td>0.469</td>\n",
       "      <td>6.421</td>\n",
       "      <td>78.9</td>\n",
       "      <td>4.9671</td>\n",
       "      <td>2</td>\n",
       "      <td>242</td>\n",
       "      <td>17.8</td>\n",
       "      <td>396.90</td>\n",
       "      <td>9.14</td>\n",
       "    </tr>\n",
       "    <tr>\n",
       "      <th>2</th>\n",
       "      <td>1</td>\n",
       "      <td>0.02729</td>\n",
       "      <td>0.0</td>\n",
       "      <td>7.07</td>\n",
       "      <td>0</td>\n",
       "      <td>0.469</td>\n",
       "      <td>7.185</td>\n",
       "      <td>61.1</td>\n",
       "      <td>4.9671</td>\n",
       "      <td>2</td>\n",
       "      <td>242</td>\n",
       "      <td>17.8</td>\n",
       "      <td>392.83</td>\n",
       "      <td>4.03</td>\n",
       "    </tr>\n",
       "    <tr>\n",
       "      <th>3</th>\n",
       "      <td>1</td>\n",
       "      <td>0.03237</td>\n",
       "      <td>0.0</td>\n",
       "      <td>2.18</td>\n",
       "      <td>0</td>\n",
       "      <td>0.458</td>\n",
       "      <td>6.998</td>\n",
       "      <td>45.8</td>\n",
       "      <td>6.0622</td>\n",
       "      <td>3</td>\n",
       "      <td>222</td>\n",
       "      <td>18.7</td>\n",
       "      <td>394.63</td>\n",
       "      <td>2.94</td>\n",
       "    </tr>\n",
       "    <tr>\n",
       "      <th>4</th>\n",
       "      <td>1</td>\n",
       "      <td>0.06905</td>\n",
       "      <td>0.0</td>\n",
       "      <td>2.18</td>\n",
       "      <td>0</td>\n",
       "      <td>0.458</td>\n",
       "      <td>7.147</td>\n",
       "      <td>54.2</td>\n",
       "      <td>6.0622</td>\n",
       "      <td>3</td>\n",
       "      <td>222</td>\n",
       "      <td>18.7</td>\n",
       "      <td>396.90</td>\n",
       "      <td>5.33</td>\n",
       "    </tr>\n",
       "    <tr>\n",
       "      <th>...</th>\n",
       "      <td>...</td>\n",
       "      <td>...</td>\n",
       "      <td>...</td>\n",
       "      <td>...</td>\n",
       "      <td>...</td>\n",
       "      <td>...</td>\n",
       "      <td>...</td>\n",
       "      <td>...</td>\n",
       "      <td>...</td>\n",
       "      <td>...</td>\n",
       "      <td>...</td>\n",
       "      <td>...</td>\n",
       "      <td>...</td>\n",
       "      <td>...</td>\n",
       "    </tr>\n",
       "    <tr>\n",
       "      <th>501</th>\n",
       "      <td>1</td>\n",
       "      <td>0.06263</td>\n",
       "      <td>0.0</td>\n",
       "      <td>11.93</td>\n",
       "      <td>0</td>\n",
       "      <td>0.573</td>\n",
       "      <td>6.593</td>\n",
       "      <td>69.1</td>\n",
       "      <td>2.4786</td>\n",
       "      <td>1</td>\n",
       "      <td>273</td>\n",
       "      <td>21.0</td>\n",
       "      <td>391.99</td>\n",
       "      <td>9.67</td>\n",
       "    </tr>\n",
       "    <tr>\n",
       "      <th>502</th>\n",
       "      <td>1</td>\n",
       "      <td>0.04527</td>\n",
       "      <td>0.0</td>\n",
       "      <td>11.93</td>\n",
       "      <td>0</td>\n",
       "      <td>0.573</td>\n",
       "      <td>6.120</td>\n",
       "      <td>76.7</td>\n",
       "      <td>2.2875</td>\n",
       "      <td>1</td>\n",
       "      <td>273</td>\n",
       "      <td>21.0</td>\n",
       "      <td>396.90</td>\n",
       "      <td>9.08</td>\n",
       "    </tr>\n",
       "    <tr>\n",
       "      <th>503</th>\n",
       "      <td>1</td>\n",
       "      <td>0.06076</td>\n",
       "      <td>0.0</td>\n",
       "      <td>11.93</td>\n",
       "      <td>0</td>\n",
       "      <td>0.573</td>\n",
       "      <td>6.976</td>\n",
       "      <td>91.0</td>\n",
       "      <td>2.1675</td>\n",
       "      <td>1</td>\n",
       "      <td>273</td>\n",
       "      <td>21.0</td>\n",
       "      <td>396.90</td>\n",
       "      <td>5.64</td>\n",
       "    </tr>\n",
       "    <tr>\n",
       "      <th>504</th>\n",
       "      <td>1</td>\n",
       "      <td>0.10959</td>\n",
       "      <td>0.0</td>\n",
       "      <td>11.93</td>\n",
       "      <td>0</td>\n",
       "      <td>0.573</td>\n",
       "      <td>6.794</td>\n",
       "      <td>89.3</td>\n",
       "      <td>2.3889</td>\n",
       "      <td>1</td>\n",
       "      <td>273</td>\n",
       "      <td>21.0</td>\n",
       "      <td>393.45</td>\n",
       "      <td>6.48</td>\n",
       "    </tr>\n",
       "    <tr>\n",
       "      <th>505</th>\n",
       "      <td>1</td>\n",
       "      <td>0.04741</td>\n",
       "      <td>0.0</td>\n",
       "      <td>11.93</td>\n",
       "      <td>0</td>\n",
       "      <td>0.573</td>\n",
       "      <td>6.030</td>\n",
       "      <td>80.8</td>\n",
       "      <td>2.5050</td>\n",
       "      <td>1</td>\n",
       "      <td>273</td>\n",
       "      <td>21.0</td>\n",
       "      <td>396.90</td>\n",
       "      <td>7.88</td>\n",
       "    </tr>\n",
       "  </tbody>\n",
       "</table>\n",
       "<p>506 rows × 14 columns</p>\n",
       "</div>"
      ],
      "text/plain": [
       "     Intercept        A     B      C  D      E      F     G       H  I    J  \\\n",
       "0            1  0.00632  18.0   2.31  0  0.538  6.575  65.2  4.0900  1  296   \n",
       "1            1  0.02731   0.0   7.07  0  0.469  6.421  78.9  4.9671  2  242   \n",
       "2            1  0.02729   0.0   7.07  0  0.469  7.185  61.1  4.9671  2  242   \n",
       "3            1  0.03237   0.0   2.18  0  0.458  6.998  45.8  6.0622  3  222   \n",
       "4            1  0.06905   0.0   2.18  0  0.458  7.147  54.2  6.0622  3  222   \n",
       "..         ...      ...   ...    ... ..    ...    ...   ...     ... ..  ...   \n",
       "501          1  0.06263   0.0  11.93  0  0.573  6.593  69.1  2.4786  1  273   \n",
       "502          1  0.04527   0.0  11.93  0  0.573  6.120  76.7  2.2875  1  273   \n",
       "503          1  0.06076   0.0  11.93  0  0.573  6.976  91.0  2.1675  1  273   \n",
       "504          1  0.10959   0.0  11.93  0  0.573  6.794  89.3  2.3889  1  273   \n",
       "505          1  0.04741   0.0  11.93  0  0.573  6.030  80.8  2.5050  1  273   \n",
       "\n",
       "        K       L     M  \n",
       "0    15.3  396.90  4.98  \n",
       "1    17.8  396.90  9.14  \n",
       "2    17.8  392.83  4.03  \n",
       "3    18.7  394.63  2.94  \n",
       "4    18.7  396.90  5.33  \n",
       "..    ...     ...   ...  \n",
       "501  21.0  391.99  9.67  \n",
       "502  21.0  396.90  9.08  \n",
       "503  21.0  396.90  5.64  \n",
       "504  21.0  393.45  6.48  \n",
       "505  21.0  396.90  7.88  \n",
       "\n",
       "[506 rows x 14 columns]"
      ]
     },
     "execution_count": 28,
     "metadata": {},
     "output_type": "execute_result"
    }
   ],
   "source": [
    "import numpy as np\n",
    "import pandas as pd\n",
    "import matplotlib.pyplot as plt\n",
    "data = pd.read_csv('C:/Users/Bhupesh/Desktop/bond/ST/CCMT/etc/sem4/Python/Machine learning/08-Linear-Regression-Models/ME698-main/housing.csv')\n",
    "df = pd.DataFrame(data)\n",
    "X = df.drop('N', axis=1)\n",
    "X.insert(0, 'Intercept', 1)\n",
    "Y = df['N']\n",
    "X"
   ]
  },
  {
   "cell_type": "code",
   "execution_count": 29,
   "metadata": {},
   "outputs": [],
   "source": [
    "from sklearn.preprocessing import MinMaxScaler\n",
    "scalar=MinMaxScaler()\n",
    "scalar.fit(X)\n",
    "X=scalar.transform(X)\n",
    "#Y=scalar.transform(Y)"
   ]
  },
  {
   "cell_type": "code",
   "execution_count": 30,
   "metadata": {},
   "outputs": [
    {
     "data": {
      "text/plain": [
       "array([[0.00000000e+00, 1.08553591e-03, 3.00000000e-01, ...,\n",
       "        4.25531915e-01, 9.39104342e-01, 2.61865342e-01],\n",
       "       [0.00000000e+00, 2.64471527e-04, 0.00000000e+00, ...,\n",
       "        6.48936170e-01, 9.92990065e-01, 9.60264901e-02],\n",
       "       [0.00000000e+00, 2.57849061e-02, 0.00000000e+00, ...,\n",
       "        2.23404255e-01, 7.48323163e-01, 2.58554084e-01],\n",
       "       ...,\n",
       "       [0.00000000e+00, 6.59293909e-02, 0.00000000e+00, ...,\n",
       "        8.08510638e-01, 1.00000000e+00, 4.86754967e-01],\n",
       "       [0.00000000e+00, 3.64314305e-03, 0.00000000e+00, ...,\n",
       "        5.10638298e-01, 9.49190579e-01, 2.52483444e-01],\n",
       "       [0.00000000e+00, 8.29719002e-04, 0.00000000e+00, ...,\n",
       "        7.02127660e-01, 1.00000000e+00, 1.94260486e-01]])"
      ]
     },
     "execution_count": 30,
     "metadata": {},
     "output_type": "execute_result"
    }
   ],
   "source": [
    "from sklearn.model_selection import train_test_split\n",
    "X_train, X_test, y_train, y_test = train_test_split(X,Y,test_size=0.10, random_state=1) \n",
    "X_train"
   ]
  },
  {
   "cell_type": "code",
   "execution_count": 31,
   "metadata": {},
   "outputs": [],
   "source": [
    "class Linear_Regression():\n",
    "\n",
    "    def __init__(self, learning_rate, iterations):\n",
    "        self.learning_rate = learning_rate\n",
    "        self.iterations = iterations\n",
    "\n",
    "    def fit(self,X,Y):\n",
    "        self.m, self.n = X.shape\n",
    "\n",
    "        self.w = np.zeros(self.n)\n",
    "        self.X = X\n",
    "        self.Y = Y\n",
    "\n",
    "        for i in range(self.iterations):\n",
    "            self.update_weights()\n",
    "\n",
    "    def update_weights(self,):\n",
    "\n",
    "        Y_prediction = self.predict(self.X)\n",
    "\n",
    "        dw = (-2*(self.X.T).dot(self.Y-Y_prediction))/self.m\n",
    "        \n",
    "        self.w = self.w - self.learning_rate*dw\n",
    "\n",
    "    def predict(self,X):\n",
    "\n",
    "        return X.dot(self.w)\n"
   ]
  },
  {
   "cell_type": "code",
   "execution_count": 34,
   "metadata": {},
   "outputs": [],
   "source": [
    "from sklearn.metrics import mean_absolute_error"
   ]
  },
  {
   "cell_type": "code",
   "execution_count": 36,
   "metadata": {},
   "outputs": [
    {
     "name": "stdout",
     "output_type": "stream",
     "text": [
      "Mean Absolute Error is 4.631340361645038 and learning rate is 0.01 \n",
      "Mean Absolute Error is 3.987746882310703 and learning rate is 0.03 \n",
      "Mean Absolute Error is 3.833255383413213 and learning rate is 0.049999999999999996 \n",
      "Mean Absolute Error is 3.7846818615603888 and learning rate is 0.06999999999999999 \n",
      "Mean Absolute Error is 3.769291994973667 and learning rate is 0.08999999999999998 \n",
      "Mean Absolute Error is 3.765835612228569 and learning rate is 0.10999999999999997 \n",
      "Mean Absolute Error is 3.7710833091428175 and learning rate is 0.12999999999999998 \n",
      "Mean Absolute Error is 3.7775218522033644 and learning rate is 0.15 \n",
      "Mean Absolute Error is 3.7837029993808793 and learning rate is 0.16999999999999998 \n",
      "Mean Absolute Error is 3.7889520515890878 and learning rate is 0.18999999999999997 \n"
     ]
    }
   ],
   "source": [
    "ALL_MAE=[]\n",
    "LEARNING_RATE=[]\n",
    "ALL_Learning_rate = list(np.arange(.01,.2,.02))\n",
    "\n",
    "for m in range(len(ALL_Learning_rate)):\n",
    "    model=Linear_Regression(learning_rate=ALL_Learning_rate[m],iterations=1000)\n",
    "    model.fit(X_train,y_train)\n",
    "    Y_test_predict = model.predict(X_test)\n",
    "    MAE = mean_absolute_error(y_test, Y_test_predict)\n",
    "    print(f'Mean Absolute Error is {MAE} and learning rate is {model.learning_rate} ')\n",
    "\n",
    "    ALL_MAE.append(MAE)\n",
    "    LEARNING_RATE.append(model.learning_rate)"
   ]
  },
  {
   "cell_type": "code",
   "execution_count": 37,
   "metadata": {},
   "outputs": [
    {
     "data": {
      "image/png": "[encoded data removed]",
      "text/plain": [
       "<Figure size 432x288 with 1 Axes>"
      ]
     },
     "metadata": {
      "needs_background": "light"
     },
     "output_type": "display_data"
    }
   ],
   "source": [
    "plt.plot(LEARNING_RATE, ALL_MAE)\n",
    "plt.xlabel(\"learning rate\")\n",
    "plt.ylabel(\"Mean Absolute Error\")\n",
    "plt.show()"
   ]
  },
  {
   "cell_type": "code",
   "execution_count": 40,
   "metadata": {},
   "outputs": [
    {
     "data": {
      "text/plain": [
       "array([  0.        ,  -5.53675852,   4.62425751,   2.89826013,\n",
       "         2.70249518,  -2.44986017,  34.8657312 ,   2.60681258,\n",
       "        -3.17708895,   4.97414188,  -5.04917628,  -3.97566347,\n",
       "        10.03017543, -12.82437695])"
      ]
     },
     "execution_count": 40,
     "metadata": {},
     "output_type": "execute_result"
    }
   ],
   "source": [
    "model=Linear_Regression(learning_rate=0.11,iterations=1000)\n",
    "model.fit(X_train,y_train)\n",
    "Y_test_predict = model.predict(X_test)\n",
    "model.w"
   ]
  },
  {
   "cell_type": "code",
   "execution_count": 41,
   "metadata": {},
   "outputs": [
    {
     "name": "stdout",
     "output_type": "stream",
     "text": [
      "Mean Absolute Error is 3.76583561222857 and learning rate is 0.11 \n"
     ]
    }
   ],
   "source": [
    "MAE = mean_absolute_error(y_test, Y_test_predict)\n",
    "print(f'Mean Absolute Error is {MAE} and learning rate is {model.learning_rate} ')"
   ]
  },
  {
   "cell_type": "code",
   "execution_count": 48,
   "metadata": {},
   "outputs": [
    {
     "data": {
      "image/png": "[encoded data removed]",
      "text/plain": [
       "<Figure size 432x288 with 1 Axes>"
      ]
     },
     "metadata": {
      "needs_background": "light"
     },
     "output_type": "display_data"
    }
   ],
   "source": [
    "plt.scatter(X_test[:,6], Y_test_predict,label='Predicted')\n",
    "plt.scatter(X_test[:,6], y_test, color='red',label='Actual')\n",
    "plt.title('Multivariate Regression fit')\n",
    "plt.ylabel('Y_Values')\n",
    "plt.xlabel('X_Values')\n",
    "plt.legend()\n",
    "plt.show()"
   ]
  },
  {
   "cell_type": "markdown",
   "metadata": {},
   "source": [
    "# Linear regression with Gaussian Basis function"
   ]
  },
  {
   "cell_type": "code",
   "execution_count": 76,
   "metadata": {},
   "outputs": [
    {
     "data": {
      "text/html": [
       "<div>\n",
       "<style scoped>\n",
       "    .dataframe tbody tr th:only-of-type {\n",
       "        vertical-align: middle;\n",
       "    }\n",
       "\n",
       "    .dataframe tbody tr th {\n",
       "        vertical-align: top;\n",
       "    }\n",
       "\n",
       "    .dataframe thead th {\n",
       "        text-align: right;\n",
       "    }\n",
       "</style>\n",
       "<table border=\"1\" class=\"dataframe\">\n",
       "  <thead>\n",
       "    <tr style=\"text-align: right;\">\n",
       "      <th></th>\n",
       "      <th>F</th>\n",
       "      <th>L</th>\n",
       "      <th>M</th>\n",
       "    </tr>\n",
       "  </thead>\n",
       "  <tbody>\n",
       "    <tr>\n",
       "      <th>0</th>\n",
       "      <td>6.575</td>\n",
       "      <td>396.90</td>\n",
       "      <td>4.98</td>\n",
       "    </tr>\n",
       "    <tr>\n",
       "      <th>1</th>\n",
       "      <td>6.421</td>\n",
       "      <td>396.90</td>\n",
       "      <td>9.14</td>\n",
       "    </tr>\n",
       "    <tr>\n",
       "      <th>2</th>\n",
       "      <td>7.185</td>\n",
       "      <td>392.83</td>\n",
       "      <td>4.03</td>\n",
       "    </tr>\n",
       "    <tr>\n",
       "      <th>3</th>\n",
       "      <td>6.998</td>\n",
       "      <td>394.63</td>\n",
       "      <td>2.94</td>\n",
       "    </tr>\n",
       "    <tr>\n",
       "      <th>4</th>\n",
       "      <td>7.147</td>\n",
       "      <td>396.90</td>\n",
       "      <td>5.33</td>\n",
       "    </tr>\n",
       "    <tr>\n",
       "      <th>...</th>\n",
       "      <td>...</td>\n",
       "      <td>...</td>\n",
       "      <td>...</td>\n",
       "    </tr>\n",
       "    <tr>\n",
       "      <th>501</th>\n",
       "      <td>6.593</td>\n",
       "      <td>391.99</td>\n",
       "      <td>9.67</td>\n",
       "    </tr>\n",
       "    <tr>\n",
       "      <th>502</th>\n",
       "      <td>6.120</td>\n",
       "      <td>396.90</td>\n",
       "      <td>9.08</td>\n",
       "    </tr>\n",
       "    <tr>\n",
       "      <th>503</th>\n",
       "      <td>6.976</td>\n",
       "      <td>396.90</td>\n",
       "      <td>5.64</td>\n",
       "    </tr>\n",
       "    <tr>\n",
       "      <th>504</th>\n",
       "      <td>6.794</td>\n",
       "      <td>393.45</td>\n",
       "      <td>6.48</td>\n",
       "    </tr>\n",
       "    <tr>\n",
       "      <th>505</th>\n",
       "      <td>6.030</td>\n",
       "      <td>396.90</td>\n",
       "      <td>7.88</td>\n",
       "    </tr>\n",
       "  </tbody>\n",
       "</table>\n",
       "<p>506 rows × 3 columns</p>\n",
       "</div>"
      ],
      "text/plain": [
       "         F       L     M\n",
       "0    6.575  396.90  4.98\n",
       "1    6.421  396.90  9.14\n",
       "2    7.185  392.83  4.03\n",
       "3    6.998  394.63  2.94\n",
       "4    7.147  396.90  5.33\n",
       "..     ...     ...   ...\n",
       "501  6.593  391.99  9.67\n",
       "502  6.120  396.90  9.08\n",
       "503  6.976  396.90  5.64\n",
       "504  6.794  393.45  6.48\n",
       "505  6.030  396.90  7.88\n",
       "\n",
       "[506 rows x 3 columns]"
      ]
     },
     "execution_count": 76,
     "metadata": {},
     "output_type": "execute_result"
    }
   ],
   "source": [
    "mu = X.mean(axis=0)\n",
    "mu = [mu[6],mu[12],mu[13]]\n",
    "X_poly = [df['F'],df['L'],df['M']]\n",
    "X_poly = pd.DataFrame(X_poly).T\n",
    "X_poly"
   ]
  },
  {
   "cell_type": "code",
   "execution_count": 79,
   "metadata": {},
   "outputs": [
    {
     "data": {
      "text/plain": [
       "array([[0.57750527, 1.        , 0.08967991],\n",
       "       [0.5479977 , 1.        , 0.2044702 ],\n",
       "       [0.6943859 , 0.98973725, 0.06346578],\n",
       "       ...,\n",
       "       [0.65433991, 1.        , 0.10789183],\n",
       "       [0.61946733, 0.99130062, 0.13107064],\n",
       "       [0.47307913, 1.        , 0.16970199]])"
      ]
     },
     "execution_count": 79,
     "metadata": {},
     "output_type": "execute_result"
    }
   ],
   "source": [
    "scalar=MinMaxScaler()\n",
    "scalar.fit(X_poly)\n",
    "X_poly=scalar.transform(X_poly)\n",
    "X_poly"
   ]
  },
  {
   "cell_type": "code",
   "execution_count": 88,
   "metadata": {},
   "outputs": [
    {
     "data": {
      "text/html": [
       "<div>\n",
       "<style scoped>\n",
       "    .dataframe tbody tr th:only-of-type {\n",
       "        vertical-align: middle;\n",
       "    }\n",
       "\n",
       "    .dataframe tbody tr th {\n",
       "        vertical-align: top;\n",
       "    }\n",
       "\n",
       "    .dataframe thead th {\n",
       "        text-align: right;\n",
       "    }\n",
       "</style>\n",
       "<table border=\"1\" class=\"dataframe\">\n",
       "  <thead>\n",
       "    <tr style=\"text-align: right;\">\n",
       "      <th></th>\n",
       "      <th>0</th>\n",
       "      <th>1</th>\n",
       "      <th>2</th>\n",
       "    </tr>\n",
       "  </thead>\n",
       "  <tbody>\n",
       "    <tr>\n",
       "      <th>0</th>\n",
       "      <td>0.925534</td>\n",
       "      <td>0.773204</td>\n",
       "      <td>0.326042</td>\n",
       "    </tr>\n",
       "    <tr>\n",
       "      <th>1</th>\n",
       "      <td>0.983077</td>\n",
       "      <td>0.773204</td>\n",
       "      <td>0.790627</td>\n",
       "    </tr>\n",
       "    <tr>\n",
       "      <th>2</th>\n",
       "      <td>0.475185</td>\n",
       "      <td>0.812372</td>\n",
       "      <td>0.242822</td>\n",
       "    </tr>\n",
       "    <tr>\n",
       "      <th>3</th>\n",
       "      <td>0.626831</td>\n",
       "      <td>0.795327</td>\n",
       "      <td>0.165982</td>\n",
       "    </tr>\n",
       "    <tr>\n",
       "      <th>4</th>\n",
       "      <td>0.505316</td>\n",
       "      <td>0.773204</td>\n",
       "      <td>0.360299</td>\n",
       "    </tr>\n",
       "    <tr>\n",
       "      <th>...</th>\n",
       "      <td>...</td>\n",
       "      <td>...</td>\n",
       "      <td>...</td>\n",
       "    </tr>\n",
       "    <tr>\n",
       "      <th>501</th>\n",
       "      <td>0.916424</td>\n",
       "      <td>0.820162</td>\n",
       "      <td>0.844179</td>\n",
       "    </tr>\n",
       "    <tr>\n",
       "      <th>502</th>\n",
       "      <td>0.975429</td>\n",
       "      <td>0.773204</td>\n",
       "      <td>0.784255</td>\n",
       "    </tr>\n",
       "    <tr>\n",
       "      <th>503</th>\n",
       "      <td>0.644866</td>\n",
       "      <td>0.773204</td>\n",
       "      <td>0.392106</td>\n",
       "    </tr>\n",
       "    <tr>\n",
       "      <th>504</th>\n",
       "      <td>0.788096</td>\n",
       "      <td>0.806554</td>\n",
       "      <td>0.484141</td>\n",
       "    </tr>\n",
       "    <tr>\n",
       "      <th>505</th>\n",
       "      <td>0.942225</td>\n",
       "      <td>0.773204</td>\n",
       "      <td>0.648127</td>\n",
       "    </tr>\n",
       "  </tbody>\n",
       "</table>\n",
       "<p>506 rows × 3 columns</p>\n",
       "</div>"
      ],
      "text/plain": [
       "            0         1         2\n",
       "0    0.925534  0.773204  0.326042\n",
       "1    0.983077  0.773204  0.790627\n",
       "2    0.475185  0.812372  0.242822\n",
       "3    0.626831  0.795327  0.165982\n",
       "4    0.505316  0.773204  0.360299\n",
       "..        ...       ...       ...\n",
       "501  0.916424  0.820162  0.844179\n",
       "502  0.975429  0.773204  0.784255\n",
       "503  0.644866  0.773204  0.392106\n",
       "504  0.788096  0.806554  0.484141\n",
       "505  0.942225  0.773204  0.648127\n",
       "\n",
       "[506 rows x 3 columns]"
      ]
     },
     "execution_count": 88,
     "metadata": {},
     "output_type": "execute_result"
    }
   ],
   "source": [
    "def gaussian_basis(x, mu, sigma=.1):\n",
    "        return np.exp(-((mu-x)**2)/sigma**2)\n",
    "phi_X=[]\n",
    "all_phi_X=[]\n",
    "    \n",
    "for i in range(len(mu)):\n",
    "    Phi_X = gaussian_basis(X_poly[:,i],mu[i],sigma=.2)\n",
    "    \n",
    "    #all_phi_X.append([Phi_X]) \n",
    "    all_phi_X.insert(i,Phi_X)\n",
    "all_phi_X = pd.DataFrame(all_phi_X).T\n",
    "all_phi_X"
   ]
  },
  {
   "cell_type": "code",
   "execution_count": 89,
   "metadata": {},
   "outputs": [],
   "source": [
    "from sklearn.model_selection import train_test_split\n",
    "X_train_2, X_test_2, y_train, y_test = train_test_split(all_phi_X, Y, test_size=0.1,random_state=1)"
   ]
  },
  {
   "cell_type": "code",
   "execution_count": 90,
   "metadata": {},
   "outputs": [
    {
     "data": {
      "text/plain": [
       "0    -0.397885\n",
       "1    26.902228\n",
       "2     2.232465\n",
       "dtype: float64"
      ]
     },
     "execution_count": 90,
     "metadata": {},
     "output_type": "execute_result"
    }
   ],
   "source": [
    "w = np.linalg.inv(X_train_2.T @ X_train_2) @ X_train_2.T @ y_train\n",
    "w"
   ]
  },
  {
   "cell_type": "code",
   "execution_count": 91,
   "metadata": {},
   "outputs": [],
   "source": [
    "def predict(w,X):\n",
    "    return X.dot(w)\n",
    "\n",
    "Y_test_predict = predict(w,X_test_2)"
   ]
  },
  {
   "cell_type": "code",
   "execution_count": 92,
   "metadata": {},
   "outputs": [
    {
     "name": "stdout",
     "output_type": "stream",
     "text": [
      "Mean Absolute Error is 7.920270661276855 \n"
     ]
    }
   ],
   "source": [
    "from sklearn.metrics import mean_absolute_error\n",
    "MAE = mean_absolute_error(y_test, Y_test_predict)\n",
    "print(f'Mean Absolute Error is {MAE} ')"
   ]
  },
  {
   "cell_type": "code",
   "execution_count": 99,
   "metadata": {},
   "outputs": [
    {
     "data": {
      "image/png": "[encoded data removed]",
      "text/plain": [
       "<Figure size 432x288 with 1 Axes>"
      ]
     },
     "metadata": {
      "needs_background": "light"
     },
     "output_type": "display_data"
    }
   ],
   "source": [
    "plt.scatter(X_test[:,13], Y_test_predict,label='Predicted')\n",
    "plt.scatter(X_test[:,13], y_test, color='red',label='Actual')\n",
    "plt.title('Guassian fit')\n",
    "plt.ylabel('Y_Values')\n",
    "plt.xlabel('X_Values')\n",
    "plt.legend()\n",
    "plt.show()"
   ]
  },
  {
   "cell_type": "code",
   "execution_count": null,
   "metadata": {},
   "outputs": [],
   "source": []
  }
 ],
 "metadata": {
  "kernelspec": {
   "display_name": "Python 3",
   "language": "python",
   "name": "python3"
  },
  "language_info": {
   "codemirror_mode": {
    "name": "ipython",
    "version": 3
   },
   "file_extension": ".py",
   "mimetype": "text/x-python",
   "name": "python",
   "nbconvert_exporter": "python",
   "pygments_lexer": "ipython3",
   "version": "3.8.5"
  }
 },
 "nbformat": 4,
 "nbformat_minor": 4
}
